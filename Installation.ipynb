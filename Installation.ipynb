{
  "nbformat": 4,
  "nbformat_minor": 0,
  "metadata": {
    "colab": {
      "private_outputs": true,
      "provenance": [],
      "toc_visible": true,
      "authorship_tag": "ABX9TyMuIQgUQRZPMxnWN55PPR2f",
      "include_colab_link": true
    },
    "kernelspec": {
      "name": "python3",
      "display_name": "Python 3"
    },
    "language_info": {
      "name": "python"
    }
  },
  "cells": [
    {
      "cell_type": "markdown",
      "metadata": {
        "id": "view-in-github",
        "colab_type": "text"
      },
      "source": [
        "<a href=\"https://colab.research.google.com/github/ZeldaFromHeaven/ROS2Studio/blob/main/Installation.ipynb\" target=\"_parent\"><img src=\"https://colab.research.google.com/assets/colab-badge.svg\" alt=\"Open In Colab\"/></a>"
      ]
    },
    {
      "cell_type": "markdown",
      "source": [
        "<p align=\"center\">\n",
        "    <picture>\n",
        "        <source media=\"(prefers-color-scheme: dark)\" srcset=\"https://github.com/ZeldaFromHeaven/ROS2Studio/blob/main/ROS2_STUDIO_logo_hd.png\">\n",
        "        <source media=\"(prefers-color-scheme: light)\" srcset=\"https://github.com/ZeldaFromHeaven/ROS2Studio/blob/main/ROS2_STUDIO_logo_hd.png\">\n",
        "        <img alt=\"ROS2 Studio\" src=\"https://raw.githubusercontent.com/ZeldaFromHeaven/ROS2Studio/master/ROS2_STUDIO_logo_hd.png\" width=\"400\">\n",
        "    </picture>\n",
        "</p>"
      ],
      "metadata": {
        "id": "mZ2zCgl9Kuuj"
      }
    },
    {
      "cell_type": "markdown",
      "source": [
        "# ROS2 Studio: A collaboration studio to play ROS2 on Colab\n",
        "![GitHub stars](https://img.shields.io/github/stars/ZeldaFromHeaven/ROS2Studio?color=gold&style=social)"
      ],
      "metadata": {
        "id": "iqUQl5JrQaHH"
      }
    },
    {
      "cell_type": "markdown",
      "source": [
        "## Installation"
      ],
      "metadata": {
        "id": "LgWrUL4lOQM8"
      }
    },
    {
      "cell_type": "markdown",
      "source": [
        " Instructions to set up ROS 2 for the first time at  Google Colab. This tutorial building ROS 2 (**Humble**) from source on the following platforms:\n",
        "\n",
        "\n",
        "*   Ubuntu 22.04\n",
        "\n"
      ],
      "metadata": {
        "id": "C7wvczM4PABK"
      }
    },
    {
      "cell_type": "markdown",
      "source": [
        "### Check the release version of Ubuntu:"
      ],
      "metadata": {
        "id": "f2sBYLltQXp2"
      }
    },
    {
      "cell_type": "code",
      "source": [
        "!lsb_release -a"
      ],
      "metadata": {
        "id": "epeXa19cQe38"
      },
      "execution_count": null,
      "outputs": []
    },
    {
      "cell_type": "markdown",
      "source": [
        "### Set Locale"
      ],
      "metadata": {
        "id": "mfWqHMCUQo77"
      }
    },
    {
      "cell_type": "markdown",
      "source": [
        "Make sure you have a locale which supports UTF-8. If you are in a minimal environment (such as a docker container), the locale may be something minimal like POSIX. We test with the following settings. However, it should be fine if you’re using a different UTF-8 supported locale."
      ],
      "metadata": {
        "id": "rYaLjiixQ6VR"
      }
    },
    {
      "cell_type": "code",
      "source": [
        "!locale  # check for UTF-8\n",
        "\n",
        "!sudo apt update && sudo apt install locales\n",
        "!sudo locale-gen en_US en_US.UTF-8\n",
        "!sudo update-locale LC_ALL=en_US.UTF-8 LANG=en_US.UTF-8\n",
        "!export LANG=en_US.UTF-8\n",
        "\n",
        "!locale  # verify settings"
      ],
      "metadata": {
        "id": "WuEgRCMqPxBj"
      },
      "execution_count": null,
      "outputs": []
    },
    {
      "cell_type": "markdown",
      "source": [
        "### Setup Sources"
      ],
      "metadata": {
        "id": "tirbeheVRIj9"
      }
    },
    {
      "cell_type": "markdown",
      "source": [
        "Now add the ROS 2 GPG key with apt."
      ],
      "metadata": {
        "id": "r8_ffHaNRJ8f"
      }
    },
    {
      "cell_type": "code",
      "source": [
        "!sudo apt update && sudo apt install curl -y\n",
        "!sudo curl -sSL https://raw.githubusercontent.com/ros/rosdistro/master/ros.key -o /usr/share/keyrings/ros-archive-keyring.gpg"
      ],
      "metadata": {
        "id": "gaHdpHlkRRvK"
      },
      "execution_count": null,
      "outputs": []
    },
    {
      "cell_type": "markdown",
      "source": [
        "Then add the repository to your sources list."
      ],
      "metadata": {
        "id": "Z7ZGGeHIRU8w"
      }
    },
    {
      "cell_type": "code",
      "source": [
        "!echo \"deb [arch=$(dpkg --print-architecture) signed-by=/usr/share/keyrings/ros-archive-keyring.gpg] http://packages.ros.org/ros2/ubuntu $(. /etc/os-release && echo $UBUNTU_CODENAME) main\" | sudo tee /etc/apt/sources.list.d/ros2.list > /dev/null"
      ],
      "metadata": {
        "id": "VuefPWNqRaTg"
      },
      "execution_count": null,
      "outputs": []
    },
    {
      "cell_type": "markdown",
      "source": [
        "### Install ROS 2 packages"
      ],
      "metadata": {
        "id": "6kakAIn_RhDf"
      }
    },
    {
      "cell_type": "markdown",
      "source": [
        "Update your apt repository caches after setting up the repositories."
      ],
      "metadata": {
        "id": "7VCbXGlGRloH"
      }
    },
    {
      "cell_type": "code",
      "source": [
        "!sudo apt update"
      ],
      "metadata": {
        "id": "XNA1JBWJRj1m"
      },
      "execution_count": null,
      "outputs": []
    },
    {
      "cell_type": "markdown",
      "source": [
        "ROS 2 packages are built on frequently updated Ubuntu systems. It is always recommended that you ensure your system is up to date before installing new packages."
      ],
      "metadata": {
        "id": "XFWAmfTRRoeJ"
      }
    },
    {
      "cell_type": "code",
      "source": [
        "!sudo apt upgrade"
      ],
      "metadata": {
        "id": "f45RwUs4RqTg"
      },
      "execution_count": null,
      "outputs": []
    },
    {
      "cell_type": "markdown",
      "source": [
        "Desktop Install (Recommended): ROS, RViz, demos, tutorials."
      ],
      "metadata": {
        "id": "CFnKyfdpRtHE"
      }
    },
    {
      "cell_type": "code",
      "source": [
        "!sudo apt install ros-humble-desktop"
      ],
      "metadata": {
        "id": "NXM1MZWwRvRY"
      },
      "execution_count": null,
      "outputs": []
    },
    {
      "cell_type": "markdown",
      "source": [
        "ROS-Base Install (Bare Bones): Communication libraries, message packages, command line tools. No GUI tools."
      ],
      "metadata": {
        "id": "4bGrgwztR08a"
      }
    },
    {
      "cell_type": "code",
      "source": [
        "!sudo apt install ros-humble-ros-base"
      ],
      "metadata": {
        "id": "O4pwrsaKRxBo"
      },
      "execution_count": null,
      "outputs": []
    },
    {
      "cell_type": "markdown",
      "source": [
        "Development tools: Compilers and other tools to build ROS packages"
      ],
      "metadata": {
        "id": "lUaNDZtfR4Dn"
      }
    },
    {
      "cell_type": "code",
      "source": [
        "!sudo apt install ros-dev-tools"
      ],
      "metadata": {
        "id": "NrDTyT2cR6NA"
      },
      "execution_count": null,
      "outputs": []
    },
    {
      "cell_type": "markdown",
      "source": [
        "### Environment setup"
      ],
      "metadata": {
        "id": "xOrKUY6HSA32"
      }
    },
    {
      "cell_type": "markdown",
      "source": [
        "Set up the extensions by installing colcon and rosdep."
      ],
      "metadata": {
        "id": "le-aXwVNSYjF"
      }
    },
    {
      "cell_type": "code",
      "source": [
        "!sudo apt install -y python3-colcon-common-extensions python3-rosdep\n",
        "!rosdep init\n",
        "!rosdep update"
      ],
      "metadata": {
        "id": "2XzDzjYnSXOX"
      },
      "execution_count": null,
      "outputs": []
    },
    {
      "cell_type": "markdown",
      "source": [
        "Set up your environment by writing and sourcing the script file."
      ],
      "metadata": {
        "id": "Q3nrwQLNSFpL"
      }
    },
    {
      "cell_type": "code",
      "source": [
        "with open('ros2studio', 'w') as f:\n",
        "    f.write('#!/bin/bash\\n')\n",
        "    f.write('source /opt/ros/humble/setup.bash\\n')\n",
        "    f.write('exec \"$@\"\\n')\n",
        "!chmod +x ros2studio"
      ],
      "metadata": {
        "id": "Um8aTx30S9hs"
      },
      "execution_count": null,
      "outputs": []
    },
    {
      "cell_type": "markdown",
      "source": [
        "### Try some examples"
      ],
      "metadata": {
        "id": "UXfdmb0iTPJQ"
      }
    },
    {
      "cell_type": "markdown",
      "source": [
        "Try to run this python script."
      ],
      "metadata": {
        "id": "yScnoOIgTn3m"
      }
    },
    {
      "cell_type": "code",
      "source": [
        "%%writefile hello.py\n",
        "import rclpy\n",
        "from rclpy.node import Node\n",
        "import time\n",
        "\n",
        "def main(args=None):\n",
        "    rclpy.init(args=args)\n",
        "    node = Node('node_hello')\n",
        "\n",
        "    while rclpy.ok():\n",
        "        node.get_logger().info('Hello ROS2Studio!')\n",
        "        time.sleep(1)\n",
        "\n",
        "    node.destroy_node()\n",
        "    rclpy.shutdown()\n",
        "\n",
        "if __name__ == '__main__':\n",
        "    main()"
      ],
      "metadata": {
        "id": "j7p2Vs7-Tm_7"
      },
      "execution_count": null,
      "outputs": []
    },
    {
      "cell_type": "code",
      "source": [
        "!./ros2studio python hello.py"
      ],
      "metadata": {
        "id": "lhKW4gF0TG9v"
      },
      "execution_count": null,
      "outputs": []
    },
    {
      "cell_type": "markdown",
      "source": [
        "## Multiple Terminals"
      ],
      "metadata": {
        "id": "K6gF2nUClrce"
      }
    },
    {
      "cell_type": "markdown",
      "source": [
        "You can use `colab-xterm` to open multiple terminals simultaneously in Google Colab. `colab-xterm` allows you to start an interactive terminal in Colab, enabling you to run multiple ROS2 nodes."
      ],
      "metadata": {
        "id": "YlFa0yITmXM4"
      }
    },
    {
      "cell_type": "markdown",
      "source": [
        "### Step 1: Install `colab-xterm`"
      ],
      "metadata": {
        "id": "wzkZBoJomcZf"
      }
    },
    {
      "cell_type": "markdown",
      "source": [
        "First, you need to install `colab-xterm` in Colab."
      ],
      "metadata": {
        "id": "noIvIIF0mh44"
      }
    },
    {
      "cell_type": "code",
      "source": [
        "!pip install colab-xterm"
      ],
      "metadata": {
        "id": "Zxq-UzXwmfjY"
      },
      "execution_count": null,
      "outputs": []
    },
    {
      "cell_type": "markdown",
      "source": [
        "### Step 2: Start `colab-xterm`"
      ],
      "metadata": {
        "id": "KwCnEIz6mpLu"
      }
    },
    {
      "cell_type": "markdown",
      "source": [
        "After installation, you can start a terminal:"
      ],
      "metadata": {
        "id": "BaPiv8F5mvQf"
      }
    },
    {
      "cell_type": "code",
      "source": [
        "%load_ext colabxterm\n",
        "%xterm"
      ],
      "metadata": {
        "id": "wO4GtwPCmsZE"
      },
      "execution_count": null,
      "outputs": []
    },
    {
      "cell_type": "markdown",
      "source": [
        "This will open an interactive terminal window in Colab."
      ],
      "metadata": {
        "id": "vl0EZBKPm2jK"
      }
    },
    {
      "cell_type": "markdown",
      "source": [
        "### Step 3: Run Multiple Terminals\n",
        "\n",
        "You can repeat Step 2 to start multiple terminals. For example, you can start different ROS2 nodes in different terminals.\n"
      ],
      "metadata": {
        "id": "LM-HRN0Wm5Jq"
      }
    },
    {
      "cell_type": "markdown",
      "source": [
        "#### Example:\n",
        "1. **Start ROS2 Node 1 in the first terminal:**\n",
        "\n",
        "    In the opened terminal, enter:\n",
        "\n",
        "    ```\n",
        "    ./ros2studio ros2 run demo_nodes_cpp talker\n",
        "    ```"
      ],
      "metadata": {
        "id": "IkSHVL1anKZq"
      }
    },
    {
      "cell_type": "code",
      "source": [
        " %load_ext colabxterm\n",
        " %xterm\n",
        " %env TERM=xterm\n",
        " from IPython.display import clear_output\n",
        " clear_output(wait=True)\n",
        " print(\"\\033[1m\" + \"Copy and paste the following command into the terminal window that pops up under this cell.\" + \"\\033[0m\")\n",
        " print(f\"./ros2studio ros2 run demo_nodes_cpp talker\")\n",
        " print()"
      ],
      "metadata": {
        "id": "hlqYhfHInJ7g"
      },
      "execution_count": null,
      "outputs": []
    },
    {
      "cell_type": "markdown",
      "source": [
        "2. **Start ROS2 Node 2 in the second terminal:**\n",
        "\n",
        "    In the opened terminal, enter:\n",
        "\n",
        "    ```\n",
        "    ./ros2studio ros2 run demo_nodes_py listener\n",
        "    ```\n"
      ],
      "metadata": {
        "id": "gu7ybZY7FnjY"
      }
    },
    {
      "cell_type": "code",
      "source": [
        " %load_ext colabxterm\n",
        " %xterm\n",
        " %env TERM=xterm\n",
        " from IPython.display import clear_output\n",
        " clear_output(wait=True)\n",
        " print(\"\\033[1m\" + \"Copy and paste the following command into the terminal window that pops up under this cell.\" + \"\\033[0m\")\n",
        " print(f\"./ros2studio ros2 run demo_nodes_py listener\")\n",
        " print()"
      ],
      "metadata": {
        "id": "A-1S06mnGKxQ"
      },
      "execution_count": null,
      "outputs": []
    },
    {
      "cell_type": "markdown",
      "source": [
        "In this way, you can run different ROS2 nodes simultaneously in multiple terminals, allowing them to communicate with each other.\n"
      ],
      "metadata": {
        "id": "Lno5kfUUHlzm"
      }
    }
  ]
}